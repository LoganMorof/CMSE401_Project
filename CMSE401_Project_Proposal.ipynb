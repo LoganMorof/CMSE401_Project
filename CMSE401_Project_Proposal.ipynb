{
 "cells": [
  {
   "cell_type": "markdown",
   "id": "4d3f4910-16cd-4bb5-a3c5-7a40ee1b52ac",
   "metadata": {},
   "source": [
    "# Crypto Portfolio Price Tracker  \n",
    "**By: Logan Morof**"
   ]
  },
  {
   "cell_type": "markdown",
   "id": "c0a88647-8b70-450c-be72-1654af38c266",
   "metadata": {},
   "source": [
    "![Image](blockchainImage.png \"BlockchainImage\")  \n",
    "_Image from: https://www.chainalysis.com/blog/what-are-blockchains/_"
   ]
  },
  {
   "cell_type": "markdown",
   "id": "fb3f4868-c423-473c-b013-fc5703ebc831",
   "metadata": {},
   "source": [
    "## Abstract  \n",
    "Cryptocurrency markets are highly volatile, and prices often vary between different exchanges, creating opportunities for arbitrage. The goal of this project is to build a **Crypto Portfolio Price Tracker** that fetches real-time crypto prices from multiple exchanges using **parallel API requests**. By focusing on optimizing price-fetching performance, this project aims to provide a better understanding of how parallel computing can be applied in finance.  \n",
    "\n",
    "We will use **Python** as the primary programming language, along with **asyncio** and **aiohttp** for parallel API handling. The project will benchmark sequential versus parallel fetching of prices to optimize throughput and reduce response time.\n"
   ]
  },
  {
   "cell_type": "markdown",
   "id": "e336f30a-aa2d-4dd1-a496-df6f4d6eaabd",
   "metadata": {},
   "source": [
    "## Schedule  \n",
    "- **Week of February 5** – Project Proposal Submission  \n",
    "- **Week of February 12** – Research API endpoints for major exchanges (Binance, Coinbase, Kraken) and implement basic price-fetching logic  \n",
    "- **Week of February 19** – Integrate parallel API requests using `asyncio` and `aiohttp`. Benchmark and compare sequential vs. parallel performance  \n",
    "- **Week of February 26** – Ensure the tool fetches data from at least three exchanges and build a basic console output to display prices  \n",
    "- **Week of March 4** – Add logic for detecting simple price discrepancies between exchanges  \n",
    "- **Week of March 11** – Build a simple real-time dashboard using Flask or Dash to display prices  \n",
    "- **Week of March 18** – Optimize dashboard performance and refresh rates  \n",
    "- **Week of April 1** – Perform final optimizations and test scalability  \n",
    "- **April 15** – Final Project Submission"
   ]
  },
  {
   "cell_type": "markdown",
   "id": "6aa7f8ab-01d8-40c5-9a9d-4287e1b2b787",
   "metadata": {},
   "source": [
    "## Part 1: Software Exploration  \n",
    "For the first part of this project, I will explore how to interact with multiple cryptocurrency exchanges using their public APIs. The focus will be on **Binance**, **Coinbase**, and **Kraken** for real-time price data. I will use **Python** with `asyncio` and `aiohttp` for parallel API requests, which will significantly improve performance over sequential requests. I expect the outcome of this step to be a working codebase that can fetch prices from multiple exchanges and display them on the console in real time.  \n",
    "\n",
    "**Resources:**  \n",
    "- [Binance API Documentation](https://binance-docs.github.io/apidocs/)  \n",
    "- [Coinbase API Documentation](https://developers.coinbase.com/)  \n",
    "- [Kraken API Documentation](https://www.kraken.com/features/api)"
   ]
  },
  {
   "cell_type": "markdown",
   "id": "287612c4-fab4-41e5-9942-526d48736db5",
   "metadata": {},
   "source": [
    "## Part 2: Benchmark and Optimization  \n",
    "The code for this project will initially fetch crypto prices sequentially and then be optimized to run in parallel using `asyncio` and `aiohttp`. I will benchmark the response time for fetching data from multiple APIs and optimize throughput by reducing latency and increasing concurrency. The goal is to achieve at least a **3x speedup** compared to sequential fetching. Additionally, I will explore caching and optimizing the refresh rate in the real-time dashboard to improve performance.  \n",
    "\n",
    "**Expected Outcome:**  \n",
    "- Demonstrate a significant reduction in response time through parallel API requests  \n",
    "- Build a functional real-time dashboard for crypto price tracking\n"
   ]
  },
  {
   "cell_type": "markdown",
   "id": "8267826b-dfe1-4772-8783-9157dba3e99a",
   "metadata": {},
   "source": []
  }
 ],
 "metadata": {
  "kernelspec": {
   "display_name": "Python [conda env:base] *",
   "language": "python",
   "name": "conda-base-py"
  },
  "language_info": {
   "codemirror_mode": {
    "name": "ipython",
    "version": 3
   },
   "file_extension": ".py",
   "mimetype": "text/x-python",
   "name": "python",
   "nbconvert_exporter": "python",
   "pygments_lexer": "ipython3",
   "version": "3.9.12"
  }
 },
 "nbformat": 4,
 "nbformat_minor": 5
}
